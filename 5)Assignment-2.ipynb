{
 "cells": [
  {
   "cell_type": "markdown",
   "id": "e782a126-5c74-43a8-89fd-f3f47c3680ea",
   "metadata": {},
   "source": [
    "Q1. How do you comment code in Python? What are the different types of comments?\n",
    "\n",
    "Answer:\n",
    "-  We can create a comment in python using the # symbol. Anything after the # symbol on the same line is considered a comment.\n",
    "- Comments are ignored by the Python interpreter and are only meant for human readers. There are two primary ways to add comments in Python:\n",
    " 1) Single-line comments : Single-line comments are used for adding comments on a single line. You can create a single-line comment using the # symbol. \n",
    " \n",
    " 2) Multi-line comments (Docstrings): Multi-line comments are typically used for documenting functions, classes, or modules. In Python, multi-line comments are created using triple-    quoted    strings, which are often referred to as docstrings."
   ]
  },
  {
   "cell_type": "code",
   "execution_count": 1,
   "id": "fd783c53-0d14-4e82-91ac-b24aa81e599a",
   "metadata": {},
   "outputs": [
    {
     "data": {
      "text/plain": [
       "'\\nThis is\\na multiline \\ncomment in \\npython\\n'"
      ]
     },
     "execution_count": 1,
     "metadata": {},
     "output_type": "execute_result"
    }
   ],
   "source": [
    "# This is a single line comment in python\n",
    "\n",
    "\"\"\"\n",
    "This is\n",
    "a multiline \n",
    "comment in \n",
    "python\n",
    "\"\"\"\n",
    "  "
   ]
  },
  {
   "cell_type": "code",
   "execution_count": null,
   "id": "569c284c-4071-4d51-a116-6c91e502d2f4",
   "metadata": {},
   "outputs": [],
   "source": []
  },
  {
   "cell_type": "markdown",
   "id": "755128ac-84a9-4dbb-8fee-05b5d6dac040",
   "metadata": {},
   "source": [
    "Q2. What are variables in Python? How do you declare and assign values to variables?"
   ]
  },
  {
   "cell_type": "code",
   "execution_count": 3,
   "id": "4973f0d8-ea88-4b36-bf63-63c16910ae9a",
   "metadata": {},
   "outputs": [
    {
     "name": "stdout",
     "output_type": "stream",
     "text": [
      "12\n",
      "apple\n",
      "True\n"
     ]
    }
   ],
   "source": [
    "# Variables are containers for storing data values.\n",
    "# A variable is created the moment you first assign a value to it.\n",
    "\n",
    "x = 12       # declaring and assigning value to a variable.\n",
    "y = 'apple'\n",
    "z = True\n",
    "print(x)\n",
    "print(y)\n",
    "print(z)\n",
    "\n",
    "\n",
    "\n"
   ]
  },
  {
   "cell_type": "code",
   "execution_count": null,
   "id": "04676dbc-8e14-4104-a99c-33d5ed638168",
   "metadata": {},
   "outputs": [],
   "source": []
  },
  {
   "cell_type": "markdown",
   "id": "4a7ea294-f134-4b95-87dd-3a80dcf6e847",
   "metadata": {},
   "source": [
    "Q3. How do you convert one data type to another in Python?"
   ]
  },
  {
   "cell_type": "code",
   "execution_count": 6,
   "id": "1018a072-e5ce-430e-81b7-266eb193edfa",
   "metadata": {},
   "outputs": [
    {
     "name": "stdout",
     "output_type": "stream",
     "text": [
      "<class 'int'>\n",
      "<class 'str'>\n"
     ]
    }
   ],
   "source": [
    "#In Python, you can convert one data type to another by type casting i.e. using type conversion functions or by simply assigning a value of one data type to a variable of another data type.\n",
    "num_1 = 45.3        # float\n",
    "num_2 = int(num_1)  # converts float into integer\n",
    "num_3 = str(num_1)  # converts float into string\n",
    "print(type(num_2))\n",
    "print(type(num_3))"
   ]
  },
  {
   "cell_type": "code",
   "execution_count": null,
   "id": "5c3b80d0-aa27-4d73-b49d-0f243a43531c",
   "metadata": {},
   "outputs": [],
   "source": []
  },
  {
   "cell_type": "markdown",
   "id": "cb6ea3f5-d5b4-4d56-b6b2-277da3bf0e9c",
   "metadata": {},
   "source": [
    "Q4. How do you write and execute a Python script from the command line?"
   ]
  },
  {
   "cell_type": "code",
   "execution_count": null,
   "id": "bb1dfc67-1e28-4ae1-9ab2-5d71ceb5e729",
   "metadata": {},
   "outputs": [],
   "source": []
  },
  {
   "cell_type": "code",
   "execution_count": null,
   "id": "cd8e5c80-a87d-4804-af47-762d84b7bcf9",
   "metadata": {},
   "outputs": [],
   "source": []
  },
  {
   "cell_type": "markdown",
   "id": "f4879c9b-5b2a-498a-b909-e7f9bfac8b48",
   "metadata": {},
   "source": [
    "Q5. Given a list my_list = [1, 2, 3, 4, 5], write the code to slice the list and obtain the sub-list [2, 3]."
   ]
  },
  {
   "cell_type": "code",
   "execution_count": 7,
   "id": "44187272-890b-4ef0-9e43-9a6732dfc672",
   "metadata": {},
   "outputs": [
    {
     "data": {
      "text/plain": [
       "[2, 3]"
      ]
     },
     "execution_count": 7,
     "metadata": {},
     "output_type": "execute_result"
    }
   ],
   "source": [
    "my_list = [1,2,3,4,5]\n",
    "my_list[1:3]"
   ]
  },
  {
   "cell_type": "code",
   "execution_count": null,
   "id": "ed4b1fe6-6e14-41e1-a802-40e0ab761aae",
   "metadata": {},
   "outputs": [],
   "source": []
  },
  {
   "cell_type": "markdown",
   "id": "de4443d4-bc11-4089-a220-74f63fbf2a0e",
   "metadata": {},
   "source": [
    "Q6. What is a complex number in mathematics, and how is it represented in Python?"
   ]
  },
  {
   "cell_type": "code",
   "execution_count": 12,
   "id": "cd47393f-5523-4735-b000-c2c6a2bf7263",
   "metadata": {},
   "outputs": [
    {
     "name": "stdout",
     "output_type": "stream",
     "text": [
      "<class 'complex'>\n",
      "8.0\n",
      "3.0\n"
     ]
    }
   ],
   "source": [
    "# The complex number is the combination of a real number and imaginary number. An example of a complex number is 4+3i. Here 4 is a real number and 3i is an imaginary number.\n",
    "# representation of complex number in python:\n",
    "\n",
    "complex_no = 8+3j\n",
    "print(type(complex_no))\n",
    "print(complex_no.real)\n",
    "print(complex_no.imag)"
   ]
  },
  {
   "cell_type": "code",
   "execution_count": null,
   "id": "885c480f-8040-493b-aa86-b6f48c237cba",
   "metadata": {},
   "outputs": [],
   "source": []
  },
  {
   "cell_type": "markdown",
   "id": "4ed70f54-f3ca-413c-89e3-9588dad19975",
   "metadata": {},
   "source": [
    "Q7. What is the correct way to declare a variable named age and assign the value 25 to it?"
   ]
  },
  {
   "cell_type": "code",
   "execution_count": 13,
   "id": "0126d136-00a3-4922-b6a3-ef24d371206a",
   "metadata": {},
   "outputs": [
    {
     "data": {
      "text/plain": [
       "25"
      ]
     },
     "execution_count": 13,
     "metadata": {},
     "output_type": "execute_result"
    }
   ],
   "source": [
    "age = 25\n",
    "age"
   ]
  },
  {
   "cell_type": "markdown",
   "id": "8087bec0-af62-4490-a145-e4d3ca9fb4c5",
   "metadata": {},
   "source": []
  },
  {
   "cell_type": "markdown",
   "id": "9f729599-64e8-46fe-abe6-582bfbd31624",
   "metadata": {},
   "source": [
    "Q8. Declare a variable named price and assign the value 9.99 to it. What data type does this variable\n",
    "belong to?"
   ]
  },
  {
   "cell_type": "code",
   "execution_count": 1,
   "id": "2877f25e-8978-40b3-9eb5-6ddcf4ddbdc7",
   "metadata": {},
   "outputs": [
    {
     "name": "stdout",
     "output_type": "stream",
     "text": [
      "<class 'float'>\n"
     ]
    }
   ],
   "source": [
    "price = 9.99\n",
    "print(type(price)) # it belongs to float data type"
   ]
  },
  {
   "cell_type": "code",
   "execution_count": null,
   "id": "3d3102ad-5c18-40fd-8286-b51ddea9afb6",
   "metadata": {},
   "outputs": [],
   "source": []
  },
  {
   "cell_type": "markdown",
   "id": "f785c249-b057-4542-8ccc-fdf072767ecb",
   "metadata": {},
   "source": [
    "Q9. Create a variable named name and assign your full name to it as a string. How would you print the\n",
    "value of this variable?"
   ]
  },
  {
   "cell_type": "code",
   "execution_count": 3,
   "id": "1cca78fa-e79d-48c5-ae6f-7452bfd26613",
   "metadata": {},
   "outputs": [
    {
     "name": "stdout",
     "output_type": "stream",
     "text": [
      "Vidit Vikram Singh\n"
     ]
    }
   ],
   "source": [
    "name = 'Vidit Vikram Singh'\n",
    "print(name)"
   ]
  },
  {
   "cell_type": "code",
   "execution_count": null,
   "id": "a65532b5-338a-401a-8c32-831af820a8ba",
   "metadata": {},
   "outputs": [],
   "source": []
  },
  {
   "cell_type": "markdown",
   "id": "3029ad6a-c38c-4857-b197-9e097bf31190",
   "metadata": {},
   "source": [
    "Q10. Given the string \"Hello, World!\", extract the substring \"World\"."
   ]
  },
  {
   "cell_type": "code",
   "execution_count": 4,
   "id": "6b6ef990-2c5d-4b36-8d67-8a2c2fa3280d",
   "metadata": {},
   "outputs": [
    {
     "name": "stdout",
     "output_type": "stream",
     "text": [
      "World\n"
     ]
    }
   ],
   "source": [
    "str1 = \"Hello, World!\"\n",
    "print(str1[7:12])"
   ]
  },
  {
   "cell_type": "code",
   "execution_count": null,
   "id": "5bf8a089-94b8-4089-bff9-41617ad129eb",
   "metadata": {},
   "outputs": [],
   "source": []
  },
  {
   "cell_type": "markdown",
   "id": "3476743c-53ba-485b-82b9-551f973524c7",
   "metadata": {},
   "source": [
    "Q11. Create a variable named \"is_student\" and assign it a boolean value indicating whether you are\n",
    "currently a student or not."
   ]
  },
  {
   "cell_type": "code",
   "execution_count": 5,
   "id": "52578fbb-2402-4393-8fd2-18e4b0baba4f",
   "metadata": {},
   "outputs": [
    {
     "name": "stdout",
     "output_type": "stream",
     "text": [
      "True\n"
     ]
    }
   ],
   "source": [
    "is_student = True\n",
    "print(is_student)"
   ]
  },
  {
   "cell_type": "code",
   "execution_count": null,
   "id": "753b7616-6f15-4353-9022-822761069876",
   "metadata": {},
   "outputs": [],
   "source": []
  }
 ],
 "metadata": {
  "kernelspec": {
   "display_name": "Python 3 (ipykernel)",
   "language": "python",
   "name": "python3"
  },
  "language_info": {
   "codemirror_mode": {
    "name": "ipython",
    "version": 3
   },
   "file_extension": ".py",
   "mimetype": "text/x-python",
   "name": "python",
   "nbconvert_exporter": "python",
   "pygments_lexer": "ipython3",
   "version": "3.10.8"
  }
 },
 "nbformat": 4,
 "nbformat_minor": 5
}
